{
 "cells": [
  {
   "cell_type": "code",
   "execution_count": 3,
   "id": "0c5628c7-1fb7-4d7b-8ad6-444d02bca178",
   "metadata": {},
   "outputs": [],
   "source": [
    "import pandas as pd\n",
    "from IPython.display import display\n",
    "import matplotlib.pyplot as plt\n",
    "import seaborn as sns"
   ]
  },
  {
   "cell_type": "code",
   "execution_count": 10,
   "id": "f4ef6e2a-1817-4841-bebc-23220025b2fd",
   "metadata": {},
   "outputs": [],
   "source": [
    "d1 = pd.read_csv('datasets/IMDb movies.csv', sep=\";\", encoding=\"latin1\")\n",
    "d2 = pd.read_csv('datasets/IMDb ratings.csv', sep=\";\")\n",
    "\n",
    "#display(d1.head(10))\n",
    "#display(d2.head(10))"
   ]
  },
  {
   "cell_type": "code",
   "execution_count": 11,
   "id": "b51f6ff8-5ad1-460e-8602-eb2e6bef65a6",
   "metadata": {},
   "outputs": [],
   "source": [
    "dataset = pd.merge(d1, d2, on=\"imdb_title_id\", how=\"inner\") \n",
    "#display(dataset.head(10))"
   ]
  },
  {
   "cell_type": "code",
   "execution_count": 12,
   "id": "a8f50620-6b73-45d5-8eb4-2f9f6d12ac48",
   "metadata": {},
   "outputs": [],
   "source": [
    "#Visualização/Exploração\n",
    "\n",
    "#print(dataset.shape) #Linhas e colunas do dataset\n",
    "#print(dataset.describe()) #Min, max, média... de cada coluna\n",
    "#print(dataset.info()) #Tipos de dados presentes + Contagem de valores não nulos\n",
    "#print(dataset.isnull().sum())) #Contagem de valores nulos\n",
    "#dataset.drop_duplicates() #Garantia de utilização de apenas valores únicos\n",
    "\n",
    "#dataset[\"top1000_voters_rating\"].hist(bins=30, edgecolor=\"black\")\n",
    "#plt.xlabel(\"Rating\")\n",
    "#plt.ylabel(\"Número de Entradas\")\n",
    "#plt.title(\"Distribuição de votos do top 1000\")\n",
    "#plt.show()\n",
    "\n",
    "#plt.scatter(dataset[\"us_voters_rating\"], dataset[\"non_us_voters_rating\"], alpha=0.1)\n",
    "#plt.xlabel(\"Voters US\")\n",
    "#plt.ylabel(\"Voters non US\")\n",
    "#plt.title(\"Dispersão US x non US\")\n",
    "#plt.show()\n"
   ]
  },
  {
   "cell_type": "code",
   "execution_count": null,
   "id": "ef36fe36-3b22-4bc3-9554-56d74d92f0e0",
   "metadata": {},
   "outputs": [],
   "source": []
  }
 ],
 "metadata": {
  "kernelspec": {
   "display_name": "Python 3",
   "language": "python",
   "name": "python3"
  },
  "language_info": {
   "codemirror_mode": {
    "name": "ipython",
    "version": 3
   },
   "file_extension": ".py",
   "mimetype": "text/x-python",
   "name": "python",
   "nbconvert_exporter": "python",
   "pygments_lexer": "ipython3",
   "version": "3.11.9"
  }
 },
 "nbformat": 4,
 "nbformat_minor": 5
}
